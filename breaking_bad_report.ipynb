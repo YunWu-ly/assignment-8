{
 "cells": [
  {
   "cell_type": "code",
   "execution_count": 5,
   "id": "10b0eb19",
   "metadata": {},
   "outputs": [
    {
     "data": {
      "text/markdown": [
       "\n",
       "#**_Breaking Bad_** Viewership Report\n",
       "\n",
       "**_Breaking Bad_** is an American neo-Western crime drama television series created and produced by Vince Gilligan. \n",
       "The show aired on **AMC** from **January 20, 2008** to **September 29, 2013**, spanning **five seasons**. \n",
       "\n",
       "It follows Walter White (played by **Bryan Cranston**), a high school chemistry teacher diagnosed with cancer who \n",
       "turns to manufacturing methamphetamine to secure his family’s future.\n",
       "\n",
       "This report presents an overview of **average season viewership** (in millions) based on available Nielsen ratings, \n",
       "and visualizes the changes over the show's run.\n"
      ],
      "text/plain": [
       "<IPython.core.display.Markdown object>"
      ]
     },
     "metadata": {},
     "output_type": "display_data"
    },
    {
     "data": {
      "text/html": [
       "<div>\n",
       "<style scoped>\n",
       "    .dataframe tbody tr th:only-of-type {\n",
       "        vertical-align: middle;\n",
       "    }\n",
       "\n",
       "    .dataframe tbody tr th {\n",
       "        vertical-align: top;\n",
       "    }\n",
       "\n",
       "    .dataframe thead th {\n",
       "        text-align: right;\n",
       "    }\n",
       "</style>\n",
       "<table border=\"1\" class=\"dataframe\">\n",
       "  <thead>\n",
       "    <tr style=\"text-align: right;\">\n",
       "      <th></th>\n",
       "      <th>Season</th>\n",
       "      <th>Year</th>\n",
       "      <th>Average_Viewers_Millions</th>\n",
       "      <th>Change_From_Last_Season</th>\n",
       "    </tr>\n",
       "  </thead>\n",
       "  <tbody>\n",
       "    <tr>\n",
       "      <th>0</th>\n",
       "      <td>1</td>\n",
       "      <td>2008</td>\n",
       "      <td>1.20</td>\n",
       "      <td>NaN</td>\n",
       "    </tr>\n",
       "    <tr>\n",
       "      <th>1</th>\n",
       "      <td>2</td>\n",
       "      <td>2009</td>\n",
       "      <td>1.30</td>\n",
       "      <td>0.10</td>\n",
       "    </tr>\n",
       "    <tr>\n",
       "      <th>2</th>\n",
       "      <td>3</td>\n",
       "      <td>2010</td>\n",
       "      <td>1.52</td>\n",
       "      <td>0.22</td>\n",
       "    </tr>\n",
       "    <tr>\n",
       "      <th>3</th>\n",
       "      <td>4</td>\n",
       "      <td>2011</td>\n",
       "      <td>1.90</td>\n",
       "      <td>0.38</td>\n",
       "    </tr>\n",
       "    <tr>\n",
       "      <th>4</th>\n",
       "      <td>5</td>\n",
       "      <td>2012</td>\n",
       "      <td>4.32</td>\n",
       "      <td>2.42</td>\n",
       "    </tr>\n",
       "  </tbody>\n",
       "</table>\n",
       "</div>"
      ],
      "text/plain": [
       "   Season  Year  Average_Viewers_Millions  Change_From_Last_Season\n",
       "0       1  2008                      1.20                      NaN\n",
       "1       2  2009                      1.30                     0.10\n",
       "2       3  2010                      1.52                     0.22\n",
       "3       4  2011                      1.90                     0.38\n",
       "4       5  2012                      4.32                     2.42"
      ]
     },
     "metadata": {},
     "output_type": "display_data"
    }
   ],
   "source": [
    "#Breaking Bad Viewership Analysis\n",
    "\n",
    "## 1. Introduction\n",
    "\n",
    "from IPython.display import Markdown, display\n",
    "\n",
    "intro_text = \"\"\"\n",
    "#**_Breaking Bad_** Viewership Report\n",
    "\n",
    "**_Breaking Bad_** is an American neo-Western crime drama television series created and produced by Vince Gilligan. \n",
    "The show aired on **AMC** from **January 20, 2008** to **September 29, 2013**, spanning **five seasons**. \n",
    "\n",
    "It follows Walter White (played by **Bryan Cranston**), a high school chemistry teacher diagnosed with cancer who \n",
    "turns to manufacturing methamphetamine to secure his family’s future.\n",
    "\n",
    "This report presents an overview of **average season viewership** (in millions) based on available Nielsen ratings, \n",
    "and visualizes the changes over the show's run.\n",
    "\"\"\"\n",
    "display(Markdown(intro_text))\n",
    "\n",
    "## 2. Display Show Image\n",
    "\n",
    "from IPython.display import Image\n",
    "\n",
    "# Show poster image from Wikimedia Commons\n",
    "Image(url=\"https://upload.wikimedia.org/wikipedia/en/6/61/Breaking_Bad_title_card.png\", width=400)\n",
    "\n",
    "## 3. Load and Display Viewership Data\n",
    "\n",
    "import pandas as pd\n",
    "\n",
    "# Manually curated average viewership (in millions) per season\n",
    "data = {\n",
    "    'Season': [1, 2, 3, 4, 5],\n",
    "    'Year': [2008, 2009, 2010, 2011, 2012],\n",
    "    'Average_Viewers_Millions': [1.2, 1.3, 1.52, 1.9, 4.32]\n",
    "}\n",
    "\n",
    "df = pd.DataFrame(data)\n",
    "df['Change_From_Last_Season'] = df['Average_Viewers_Millions'].diff().round(2)\n",
    "\n",
    "display(df)\n"
   ]
  }
 ],
 "metadata": {
  "kernelspec": {
   "display_name": "Python 3",
   "language": "python",
   "name": "python3"
  },
  "language_info": {
   "codemirror_mode": {
    "name": "ipython",
    "version": 3
   },
   "file_extension": ".py",
   "mimetype": "text/x-python",
   "name": "python",
   "nbconvert_exporter": "python",
   "pygments_lexer": "ipython3",
   "version": "3.12.10"
  }
 },
 "nbformat": 4,
 "nbformat_minor": 5
}
